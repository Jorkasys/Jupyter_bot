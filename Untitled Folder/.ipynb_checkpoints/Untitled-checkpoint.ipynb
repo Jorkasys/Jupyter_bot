{
 "cells": [
  {
   "cell_type": "markdown",
   "id": "33464e6b",
   "metadata": {},
   "source": [
    "# HELLO!!!"
   ]
  },
  {
   "cell_type": "markdown",
   "id": "65432a8c",
   "metadata": {},
   "source": [
    "We have decided to work with the dataset - \"fashion_products\". Our project will help people who follow fashion novelties!\n",
    "Thanks to this program, they can choose an interesting combination of colors and clothes for themselves.And also find the wear that suits your image the most.\n"
   ]
  },
  {
   "cell_type": "markdown",
   "id": "f40344a6",
   "metadata": {},
   "source": [
    "Firstly, we should open the dataset:"
   ]
  },
  {
   "cell_type": "code",
   "execution_count": 14,
   "id": "59dd96d7",
   "metadata": {},
   "outputs": [],
   "source": [
    "import csv\n",
    "\n",
    "input_file = \"fashion_products.csv\"\n",
    "data = []\n",
    "f_names = None"
   ]
  },
  {
   "cell_type": "markdown",
   "id": "557dd4ce",
   "metadata": {},
   "source": [
    "Further, reading data from file:"
   ]
  },
  {
   "cell_type": "code",
   "execution_count": 15,
   "id": "84474249",
   "metadata": {},
   "outputs": [],
   "source": [
    "with open(input_file, 'r') as f:\n",
    "    reader = csv.DictReader(f)\n",
    "    f_names = reader.fieldnames\n",
    "    for row in reader:\n",
    "        data.append(row)"
   ]
  },
  {
   "cell_type": "markdown",
   "id": "53cd155e",
   "metadata": {},
   "source": [
    "first micro-function will help us with input problems: "
   ]
  },
  {
   "cell_type": "code",
   "execution_count": 16,
   "id": "4dd70231",
   "metadata": {},
   "outputs": [],
   "source": [
    "def safe_input(input_type, message):\n",
    "    while True:  # Until the user enters a valid value\n",
    "        value = input(message)\n",
    "        if type(input_type) == int:\n",
    "            if str(value).isdigit() is False:\n",
    "                print('Unclassified input! Enter a number!')\n",
    "            else:\n",
    "                break\n",
    "        if type(input_type) == str:\n",
    "            if str(value).isalpha() is False:  # all my inputs don't require mixed format(dora111) so this works\n",
    "                print('Unclassified input! Enter a words!')\n",
    "            else:\n",
    "                break\n",
    "        if type(input_type) == float:\n",
    "            try:\n",
    "                value = float(value)\n",
    "                break\n",
    "            except Exception:\n",
    "                print('Unclassified input! Enter a number!')\n",
    "    return value"
   ]
  },
  {
   "cell_type": "markdown",
   "id": "cda55853",
   "metadata": {},
   "source": [
    "second — will help with writing to csv file our filtered data:"
   ]
  },
  {
   "cell_type": "code",
   "execution_count": 17,
   "id": "ba517162",
   "metadata": {},
   "outputs": [],
   "source": [
    "def writer_to_csv(ans, filename):  # the arguments are the rows that we need and the file name\n",
    "    csv_file = filename\n",
    "    with open(csv_file, 'w', newline='') as file:\n",
    "        writer = csv.DictWriter(file, fieldnames=ans)  # working with rows\n",
    "        writer.writeheader()\n",
    "        writer.writerow(ans)"
   ]
  },
  {
   "cell_type": "markdown",
   "id": "e6e7e2d2",
   "metadata": {},
   "source": [
    "Functions that will find user-needed information through the database.\n",
    "№1:"
   ]
  },
  {
   "cell_type": "code",
   "execution_count": 18,
   "id": "518fe1f6",
   "metadata": {},
   "outputs": [],
   "source": [
    "# Search for the best (price + rating) clothes of a certain category\n",
    "def best_thing():\n",
    "    gender = str(safe_input(\"str\", \"For whom we choose an outfit? (W or M)\"))\n",
    "    while gender not in 'MW':\n",
    "        print('please write your answer in the correct format')\n",
    "        gender = safe_input(\"str\", \"For whom we choose an outfit? (W or M)\")\n",
    "    if gender == \"W\":\n",
    "        gender = \"Women's Fashion\"\n",
    "    else:\n",
    "        gender = \"Men's Fashion\"\n",
    "    size = safe_input(\"str\", \"what should be the size?(S, M, L, XS, XL...): \")\n",
    "    product_name = safe_input(\"str\", \"Please, enter the clothing category(Dress, Jeans, Shoes, T-shirt, Sweater...): \")\n",
    "    min_cost = 9999 # to always go into 1 iteration\n",
    "    max_mark = 0.1\n",
    "    for row in data[0:]: # 0 element - title\n",
    "        if (\n",
    "                str(row['Category']) == gender and\n",
    "                str(row['Size']) == size and\n",
    "                str(row['Product Name']) == product_name and\n",
    "                int(row['Price']) < min_cost and # the lower the cost, the better the item for the buyer\n",
    "                round(float(row['Rating']), 5) > max_mark): # the higher the rating, the better the item for the buyer\n",
    "            min_cost = int(row['Price'])\n",
    "            max_mark = round(float(row['Rating']), 5)\n",
    "            ans = row\n",
    "    writer_to_csv(ans, 'best.csv') # I call the write function and pass a dictionary with the necessary data there\n",
    "    return (ans)"
   ]
  },
  {
   "cell_type": "code",
   "execution_count": 19,
   "id": "81ac51e1",
   "metadata": {},
   "outputs": [
    {
     "name": "stdout",
     "output_type": "stream",
     "text": [
      "For whom we choose an outfit? (W or M)W\n",
      "what should be the size?(S, M, L, XS, XL...): L\n",
      "Please, enter the clothing category(Dress, Jeans, Shoes, T-shirt, Sweater...): Dress\n"
     ]
    },
    {
     "data": {
      "text/plain": [
       "{'User ID': '22',\n",
       " 'Product ID': '96',\n",
       " 'Product Name': 'Dress',\n",
       " 'Brand': 'Gucci',\n",
       " 'Category': \"Women's Fashion\",\n",
       " 'Price': '30',\n",
       " 'Rating': '4.655251630403741',\n",
       " 'Color': 'Red',\n",
       " 'Size': 'L'}"
      ]
     },
     "execution_count": 19,
     "metadata": {},
     "output_type": "execute_result"
    }
   ],
   "source": [
    "best_thing()"
   ]
  },
  {
   "cell_type": "markdown",
   "id": "be1aef3e",
   "metadata": {},
   "source": [
    "In this function user can find and choose clothes to his fashion-set!№2:"
   ]
  },
  {
   "cell_type": "code",
   "execution_count": 20,
   "id": "f17e522f",
   "metadata": {},
   "outputs": [],
   "source": [
    "# Search for boots, pants and outerwear of the right colors\n",
    "def searching_set():\n",
    "    gender = str(safe_input(\"str\", \"For whom we choose an outfit? (W or M)\"))\n",
    "    while gender not in 'MW':\n",
    "        print('please write your answer in the correct format')\n",
    "        gender = safe_input(\"str\", \"For whom we choose an outfit? (W or M)\")\n",
    "    if gender == \"W\":\n",
    "        gender = \"Women's Fashion\"\n",
    "    else:\n",
    "        gender = \"Men's Fashion\"\n",
    "    size = safe_input(\"str\", \"what should be the size?(S, M, L, XS, XL...): \")\n",
    "    color_shoes = safe_input(\"str\", \"Please, enter the color of shoes(Black, Green, White, Blue): \")\n",
    "    color_legs = safe_input(\"str\", \"Please, enter color of trousers(Black, Green, White, Blue): \")\n",
    "    color_top = safe_input(\"str\", \"Please, enter the color of outerwear(Black, Green, White, Blue): \")\n",
    "    clothes = {'shoes': [], 'legs': [], 'top': []} # in this dictionary items of clothing are sorted by\n",
    "    # group which makes it easier to select\n",
    "    for row in data[0:]:\n",
    "        if (\n",
    "                str(row['Category']) == gender and\n",
    "                str(row['Size']) == size):\n",
    "            if (str(row['Product Name']) == 'Shoes') and (str(row['Color']) == color_shoes):\n",
    "                clothes['shoes'] += [row['Brand'], row['Price'], round(float(row['Rating']), 2)] # add the necessary\n",
    "                # set items to dictionary rounding rating for user convenience\n",
    "            elif (str(row['Product Name']) == 'Jeans') and (str(row['Color']) == color_legs):\n",
    "                clothes['legs'] += [row['Brand'], row['Price'], round(float(row['Rating']), 2)]\n",
    "            elif (str(row['Product Name']) in ['T-shirt', 'Sweater', 'Dress']) and (str(row['Color']) == color_top):\n",
    "                clothes['top'] += [row['Brand'], row['Price'], round(float(row['Rating']), 2)]\n",
    "    print(f\"{clothes['shoes']}\")\n",
    "    print(clothes['legs'])\n",
    "    print(clothes['top'])\n",
    "    writer_to_csv(clothes, 'set.csv')"
   ]
  },
  {
   "cell_type": "code",
   "execution_count": 21,
   "id": "23c15654",
   "metadata": {},
   "outputs": [
    {
     "name": "stdout",
     "output_type": "stream",
     "text": [
      "For whom we choose an outfit? (W or M)W\n",
      "what should be the size?(S, M, L, XS, XL...): L\n",
      "Please, enter the color of shoes(Black, Green, White, Blue): Black\n",
      "Please, enter color of trousers(Black, Green, White, Blue): Green\n",
      "Please, enter the color of outerwear(Black, Green, White, Blue): White\n",
      "['H&M', '82', 4.03, 'Adidas', '82', 2.72, 'Gucci', '35', 2.98, 'Zara', '54', 3.72, 'Nike', '11', 2.78, 'Gucci', '43', 2.39]\n",
      "['Gucci', '89', 4.57, 'Zara', '50', 3.17, 'Adidas', '67', 3.48, 'Adidas', '40', 3.25, 'Gucci', '58', 3.65, 'Zara', '11', 3.78]\n",
      "['Zara', '34', 2.92, 'Gucci', '48', 2.43, 'H&M', '60', 2.94, 'Adidas', '88', 1.75, 'Zara', '83', 4.72, 'Adidas', '44', 1.03, 'Zara', '11', 4.34, 'Nike', '70', 4.45, 'Zara', '30', 1.37, 'Nike', '49', 3.16]\n"
     ]
    }
   ],
   "source": [
    "searching_set()"
   ]
  },
  {
   "cell_type": "markdown",
   "id": "f8f9b0e7",
   "metadata": {},
   "source": [
    "Finally, in this function the user answers many questions and gets the most accurate and convenient option for him\n",
    "\n",
    "№3"
   ]
  },
  {
   "cell_type": "code",
   "execution_count": 22,
   "id": "abbbdf7e",
   "metadata": {},
   "outputs": [],
   "source": [
    "# Search for a specific thing by many parameters\n",
    "def searching_clothes():\n",
    "    product_name = safe_input(\"str\", \"Please, enter the clothing category(Dress, Jeans, Shoes, T-shirt, Sweater...): \")\n",
    "    brand = safe_input(\"str\", \"Please, enter the brand(Zara, H&M, Adidas, Gucci...): \")\n",
    "    gender = str(safe_input(\"str\", \"For whom we choose an outfit? (W or M)\"))\n",
    "    while gender not in 'MW':\n",
    "        print('please write your answer in the correct format')\n",
    "        gender = safe_input(\"str\", \"For whom we choose an outfit? (W or M)\")\n",
    "    if gender == \"W\":\n",
    "        gender = \"Women's Fashion\"\n",
    "    else:\n",
    "        gender = \"Men's Fashion\"\n",
    "    price = safe_input(1, \"Please, enter the the largest amount (in $): \")\n",
    "    rating = safe_input(1.3, \"What should be the minimum rating?(from 1.0 up to 5.0): \")\n",
    "    color = safe_input(\"str\", \"What should be the color?(Black, Green, White, Blue): \")\n",
    "    size = safe_input(\"str\", \"what should be the size?(S, M, L, XS, XL...): \")\n",
    "    needed_clothes = {}\n",
    "    for row in data[0:]:\n",
    "        if (\n",
    "                str(row['Product Name']) == product_name and\n",
    "                str(row['Brand']) == brand and\n",
    "                str(row['Category']) == gender and\n",
    "                int(row['Price']) <= int(price) and\n",
    "                float(row['Rating']) >= float(rating) and\n",
    "                str(row['Color']) == color and\n",
    "                str(row['Size']) == size\n",
    "        ):\n",
    "            needed_clothes.update(row) # \"add\" dictionaries to pass it later to the write function in csv\n",
    "    writer_to_csv(needed_clothes, 'a.csv')\n",
    "    print(needed_clothes)\n"
   ]
  },
  {
   "cell_type": "code",
   "execution_count": 23,
   "id": "83ba6ae2",
   "metadata": {},
   "outputs": [
    {
     "name": "stdout",
     "output_type": "stream",
     "text": [
      "Please, enter the clothing category(Dress, Jeans, Shoes, T-shirt, Sweater...): Dress\n",
      "Please, enter the brand(Zara, H&M, Adidas, Gucci...): Adidas\n",
      "For whom we choose an outfit? (W or M)M\n",
      "Please, enter the the largest amount (in $): 1000\n",
      "What should be the minimum rating?(from 1.0 up to 5.0): 1\n",
      "What should be the color?(Black, Green, White, Blue): Black\n",
      "what should be the size?(S, M, L, XS, XL...): XL\n",
      "{'User ID': '18', 'Product ID': '829', 'Product Name': 'Dress', 'Brand': 'Adidas', 'Category': \"Men's Fashion\", 'Price': '19', 'Rating': '4.2570846480415545', 'Color': 'Black', 'Size': 'XL'}\n"
     ]
    }
   ],
   "source": [
    "searching_clothes()"
   ]
  }
 ],
 "metadata": {
  "kernelspec": {
   "display_name": "Python 3 (ipykernel)",
   "language": "python",
   "name": "python3"
  },
  "language_info": {
   "codemirror_mode": {
    "name": "ipython",
    "version": 3
   },
   "file_extension": ".py",
   "mimetype": "text/x-python",
   "name": "python",
   "nbconvert_exporter": "python",
   "pygments_lexer": "ipython3",
   "version": "3.9.13"
  }
 },
 "nbformat": 4,
 "nbformat_minor": 5
}
